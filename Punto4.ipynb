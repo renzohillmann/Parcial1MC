{
 "cells": [
  {
   "cell_type": "code",
   "execution_count": 1,
   "metadata": {},
   "outputs": [],
   "source": [
    "import numpy as np\n",
    "\n",
    "K = 0.01720209908 #U.A.^(3/2)/d\n",
    "a = 1.0 # U.A.\n",
    "e = 0.016674\n",
    "Mr = 142.28337 #° para el 28 de mayo de 2014\n",
    "\n",
    "# Ω ω i\n",
    "i = 0.0\n",
    "Ω = 0.0\n",
    "ω = 102.9777"
   ]
  },
  {
   "cell_type": "markdown",
   "metadata": {},
   "source": [
    "## 1) Buscamos hallar M"
   ]
  },
  {
   "cell_type": "code",
   "execution_count": 2,
   "metadata": {},
   "outputs": [
    {
     "name": "stdout",
     "output_type": "stream",
     "text": [
      "El movimiento medio es n =  0.9857485515374813 °/d\n"
     ]
    }
   ],
   "source": [
    "n = K*180/np.pi * (np.sqrt(1 + 1/3497.9018))/a**(3/2)\n",
    "print(\"El movimiento medio es n = \", n, \"°/d\")"
   ]
  },
  {
   "cell_type": "code",
   "execution_count": 3,
   "metadata": {},
   "outputs": [
    {
     "name": "stdout",
     "output_type": "stream",
     "text": [
      "Hay 24.0000 días entre 2014-05-28 00:00:00 y 2014-06-21 00:00:00.\n"
     ]
    }
   ],
   "source": [
    "from datetime import datetime\n",
    "\n",
    "def days_between(utc_time1, utc_time2): #Nos retorna la diferencia en días con fracción decimal\n",
    "  \n",
    "  time1 = datetime.strptime(utc_time1, \"%Y-%m-%d %H:%M:%S\")\n",
    "  time2 = datetime.strptime(utc_time2, \"%Y-%m-%d %H:%M:%S\")\n",
    "  delta = time2 - time1\n",
    "  return delta.total_seconds() / (24 * 3600) #how many days with decimals\n",
    "\n",
    "# Aplicación:\n",
    "utc_time1 = \"2014-05-28 00:00:00\"\n",
    "utc_time2 = \"2014-06-21 00:00:00\"\n",
    "\n",
    "days_diff = days_between(utc_time1, utc_time2)\n",
    "print(f\"Hay {days_diff:.4f} días entre {utc_time1} y {utc_time2}.\")"
   ]
  },
  {
   "cell_type": "code",
   "execution_count": 4,
   "metadata": {},
   "outputs": [
    {
     "name": "stdout",
     "output_type": "stream",
     "text": [
      "La anomalía media es M =  165.94133523689953 °\n"
     ]
    }
   ],
   "source": [
    "M = n*days_diff + Mr\n",
    "print(\"La anomalía media es M = \", M,  \"°\")"
   ]
  },
  {
   "cell_type": "markdown",
   "metadata": {},
   "source": [
    "## 2) Con la ecuación de Kepler hallamos la anomalía eccéntrica"
   ]
  },
  {
   "cell_type": "code",
   "execution_count": 5,
   "metadata": {},
   "outputs": [
    {
     "name": "stdout",
     "output_type": "stream",
     "text": [
      "La anomalía eccéntrica es E =  166.16970860877055 °\n"
     ]
    }
   ],
   "source": [
    "from scipy.optimize import fsolve\n",
    "import math\n",
    "# Ecuación de Kepler en grados:\n",
    "f = lambda E : M + e*(180/np.pi)*np.sin(np.radians(E)) - E\n",
    "\n",
    "roots = fsolve(f, [100, 3002])\n",
    "E = roots[0]\n",
    "\n",
    "print(\"La anomalía eccéntrica es E = \", E, \"°\")\n"
   ]
  },
  {
   "cell_type": "markdown",
   "metadata": {},
   "source": [
    "## 3) Hallamos $\\theta$ y $r$ usando:"
   ]
  },
  {
   "cell_type": "code",
   "execution_count": 6,
   "metadata": {},
   "outputs": [
    {
     "name": "stdout",
     "output_type": "stream",
     "text": [
      "El radio vector es r = 1.0161905879797808 U.A.\n"
     ]
    }
   ],
   "source": [
    "r = a*(1 - e*np.cos(np.radians(E)))\n",
    "\n",
    "print(\"El radio vector es r =\", r, \"U.A.\")"
   ]
  },
  {
   "cell_type": "code",
   "execution_count": 7,
   "metadata": {},
   "outputs": [
    {
     "name": "stdout",
     "output_type": "stream",
     "text": [
      "La anomalía verdadera es θ =  166.39626339642263 °\n"
     ]
    }
   ],
   "source": [
    "θ = 2*np.arctan(np.sqrt((1+e)/(1-e))*np.tan(np.radians(E/2)))\n",
    "θ = np.degrees(θ)\n",
    "print(\"La anomalía verdadera es θ = \", θ, \"°\")"
   ]
  },
  {
   "cell_type": "code",
   "execution_count": 8,
   "metadata": {},
   "outputs": [
    {
     "name": "stdout",
     "output_type": "stream",
     "text": [
      "El radio vector mediante la otra forma es r = 1.0161905879797808 U.A.\n"
     ]
    }
   ],
   "source": [
    "#CONTROL:\n",
    "r = a*(1 - e**2)/(1 + e*np.cos(np.radians(θ)))\n",
    "print(\"El radio vector mediante la otra forma es r =\", r, \"U.A.\")"
   ]
  },
  {
   "cell_type": "markdown",
   "metadata": {},
   "source": [
    "## 4) Posición con respecto al Sol en el plano fundamental (X, Y, Z)"
   ]
  },
  {
   "cell_type": "code",
   "execution_count": 9,
   "metadata": {},
   "outputs": [
    {
     "name": "stdout",
     "output_type": "stream",
     "text": [
      "x = -0.011103083881512035 U.A.\n",
      "y = -1.0161299290085952 U.A.\n",
      "z = -0.0 U.A.\n"
     ]
    }
   ],
   "source": [
    "x= r*( np.cos(np.radians(Ω)) * np.cos(np.radians(ω+θ)) - np.sin(np.radians(Ω)) * np.sin(np.radians(ω+θ)) * np.cos(np.radians(i)) )\n",
    "y= r*( np.sin(np.radians(Ω)) * np.cos(np.radians(ω+θ)) + np.cos(np.radians(Ω)) * np.sin(np.radians(ω+θ)) * np.cos(np.radians(i)) )\n",
    "z = r * np.sin(np.radians(ω+θ)) * np.sin(np.radians(i))\n",
    "\n",
    "print(\"x =\",  x, \"U.A.\")\n",
    "print(\"y =\", y, \"U.A.\")\n",
    "print(\"z =\", z, \"U.A.\")"
   ]
  },
  {
   "cell_type": "markdown",
   "metadata": {},
   "source": [
    "## 5) Hallamos las geocéntricas del SOL"
   ]
  },
  {
   "cell_type": "code",
   "execution_count": 10,
   "metadata": {},
   "outputs": [
    {
     "name": "stdout",
     "output_type": "stream",
     "text": [
      "Las coordenadas geocéntricas eclípticas del SOL son:\n",
      "ξ =  0.011103083881512035 U.A.\n",
      "η =  1.0161299290085952 U.A.\n",
      "ζ =  0.0 U.A.\n"
     ]
    }
   ],
   "source": [
    "ξ = -x\n",
    "η = -y\n",
    "ζ = -z\n",
    "\n",
    "print(\"Las coordenadas geocéntricas eclípticas del SOL son:\")\n",
    "\n",
    "print(\"ξ = \", ξ, \"U.A.\")\n",
    "print(\"η = \", η, \"U.A.\")\n",
    "print(\"ζ = \", ζ, \"U.A.\")"
   ]
  },
  {
   "cell_type": "code",
   "execution_count": 11,
   "metadata": {},
   "outputs": [
    {
     "name": "stdout",
     "output_type": "stream",
     "text": [
      "Las coordenadas geocéntricas ecuatoriales del SOL son:\n",
      "ξ' =  0.011103083881512035 U.A.\n",
      "η' =  0.932281064899538 U.A.\n",
      "ζ' =  0.4041930833856465 U.A.\n"
     ]
    }
   ],
   "source": [
    "from useful_functions import DECtoHMS\n",
    "from useful_functions import DECtoDMS\n",
    "from useful_functions import DMStoDEC\n",
    "\n",
    "ε_2000 = DMStoDEC(23, 26, 21.406)\n",
    "\n",
    "\n",
    "\n",
    "Rminus_ε= np.array([[1, 0, 0],\n",
    "                       [0, math.cos(math.radians(ε_2000 )), -math.sin(math.radians(ε_2000 ))], \n",
    "                       [0, math.sin(math.radians(ε_2000 )), math.cos(math.radians(ε_2000 ))]])\n",
    "\n",
    "r_geo_eclip = np.array([ξ, η, ζ ])\n",
    "\n",
    "r_geo_ecua = Rminus_ε @ r_geo_eclip\n",
    "\n",
    "ξp = r_geo_ecua[0]\n",
    "ηp = r_geo_ecua[1]\n",
    "ζp = r_geo_ecua[2]\n",
    "\n",
    "\n",
    "print(\"Las coordenadas geocéntricas ecuatoriales del SOL son:\")\n",
    "\n",
    "print(\"ξ' = \", ξp, \"U.A.\")\n",
    "print(\"η' = \", ηp, \"U.A.\")\n",
    "print(\"ζ' = \", ζp, \"U.A.\")"
   ]
  },
  {
   "cell_type": "markdown",
   "metadata": {},
   "source": [
    "## 7) Pasamos a coordenadas ecuatoriales absolutas"
   ]
  },
  {
   "cell_type": "code",
   "execution_count": 12,
   "metadata": {},
   "outputs": [
    {
     "name": "stdout",
     "output_type": "stream",
     "text": [
      "Las coordenadas ecuatoriales absolutas en DEG:\n",
      "ρ =  1.0161905879797808 U.A.\n",
      "α =  89.31766310051411 °\n",
      "δ =  23.437796646135794 °\n"
     ]
    }
   ],
   "source": [
    "ρ = np.linalg.norm(r_geo_ecua)\n",
    "α = np.degrees(np.arctan2(ηp, ξp))\n",
    "δ = np.degrees(np.arcsin(ζp/ρ))\n",
    "\n",
    "print(\"Las coordenadas ecuatoriales absolutas en DEG:\")\n",
    "print(\"ρ = \", ρ, \"U.A.\")\n",
    "print(\"α = \", α , \"°\")\n",
    "print(\"δ = \", δ, \"°\")"
   ]
  },
  {
   "cell_type": "code",
   "execution_count": 13,
   "metadata": {},
   "outputs": [
    {
     "name": "stdout",
     "output_type": "stream",
     "text": [
      "Pasando a HMS y DMS\n",
      "ρ =  1.0161905879797808 U.A.\n",
      "α =  5 h 57 m 16.239144123387348 s\n",
      "δ =  23 ° 26 ' 16.067926088859394  '' \n"
     ]
    }
   ],
   "source": [
    "α = DECtoHMS(α)\n",
    "δ = DECtoDMS(δ)\n",
    "\n",
    "print(\"Pasando a HMS y DMS\")\n",
    "print(\"ρ = \", ρ, \"U.A.\")\n",
    "print(\"α = \", α['hours'] , \"h\", α['mins'], \"m\", α['secs'], 's')\n",
    "print(\"δ = \", δ['degs'], \"°\", δ['mins'], \"'\", δ['secs'], \" '' \" )"
   ]
  },
  {
   "cell_type": "code",
   "execution_count": null,
   "metadata": {},
   "outputs": [],
   "source": []
  }
 ],
 "metadata": {
  "kernelspec": {
   "display_name": "Python 3 (ipykernel)",
   "language": "python",
   "name": "python3"
  },
  "language_info": {
   "codemirror_mode": {
    "name": "ipython",
    "version": 3
   },
   "file_extension": ".py",
   "mimetype": "text/x-python",
   "name": "python",
   "nbconvert_exporter": "python",
   "pygments_lexer": "ipython3",
   "version": "3.11.0"
  }
 },
 "nbformat": 4,
 "nbformat_minor": 4
}
