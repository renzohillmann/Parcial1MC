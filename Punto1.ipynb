{
 "cells": [
  {
   "cell_type": "markdown",
   "metadata": {},
   "source": [
    "## Punto 1"
   ]
  },
  {
   "cell_type": "code",
   "execution_count": 1,
   "metadata": {},
   "outputs": [],
   "source": [
    "from datetime import datetime, timedelta\n",
    "import math\n",
    "import numpy as np\n",
    "import matplotlib.pyplot as plt #para graficar\n",
    "\n",
    "#CONSTANTES:\n",
    "\n",
    "# se supone que el asteroide va alrededor del sol\n",
    "K = 0.01720209908 #U.A.^(3/2)/d\n",
    "\n",
    "a = 2.6785123 # U.A\n",
    "e = 0.2543422\n"
   ]
  },
  {
   "cell_type": "code",
   "execution_count": 2,
   "metadata": {},
   "outputs": [
    {
     "name": "stdout",
     "output_type": "stream",
     "text": [
      "El periodo orbital es T =  1601.1753337699245 días\n"
     ]
    }
   ],
   "source": [
    "T = (2*math.pi*a**(3/2))/K  #d : días\n",
    "print(\"El periodo orbital es T = \", T, \"días\")"
   ]
  },
  {
   "cell_type": "code",
   "execution_count": 3,
   "metadata": {},
   "outputs": [
    {
     "name": "stdout",
     "output_type": "stream",
     "text": [
      "El movimiento medio es n =  0.22483484001242365 °/d\n"
     ]
    }
   ],
   "source": [
    "n = 360/T # °/d\n",
    "print(\"El movimiento medio es n = \", n, \"°/d\")"
   ]
  },
  {
   "cell_type": "code",
   "execution_count": 4,
   "metadata": {},
   "outputs": [
    {
     "name": "stdout",
     "output_type": "stream",
     "text": [
      "Hay Δt = 421.0000 días entre 2005-05-05 00:00:00 y 2006-06-30 00:00:00.\n"
     ]
    }
   ],
   "source": [
    "def days_between(utc_time1, utc_time2): #Nos retorna la diferencia en días con fracción decimal\n",
    "    \n",
    "  time1 = datetime.strptime(utc_time1, \"%Y-%m-%d %H:%M:%S\")\n",
    "  time2 = datetime.strptime(utc_time2, \"%Y-%m-%d %H:%M:%S\")\n",
    "  delta = time2 - time1\n",
    "  return delta.total_seconds() / (24 * 3600) #how many days with decimals\n",
    "\n",
    "utc_time1 = \"2005-05-05 00:00:00\" #tiempo de paso por el perihelio\n",
    "utc_time2 = \"2006-06-30 00:00:00\"\n",
    "\n",
    "days_diff = days_between(utc_time1, utc_time2)\n",
    "print(f\"Hay Δt = {days_diff:.4f} días entre {utc_time1} y {utc_time2}.\")"
   ]
  },
  {
   "cell_type": "code",
   "execution_count": 5,
   "metadata": {},
   "outputs": [
    {
     "name": "stdout",
     "output_type": "stream",
     "text": [
      "La anomalía media es M =  94.65546764523036 °\n"
     ]
    }
   ],
   "source": [
    "M = n*(days_diff)\n",
    "print('La anomalía media es M = ', M, '°')"
   ]
  },
  {
   "cell_type": "code",
   "execution_count": 6,
   "metadata": {},
   "outputs": [
    {
     "name": "stdout",
     "output_type": "stream",
     "text": [
      "La anomalía eccéntrica es E =  108.47699229744289 °\n"
     ]
    }
   ],
   "source": [
    "from scipy.optimize import fsolve \n",
    "\n",
    "# Ecuación de Kepler en grados\n",
    "f = lambda E : M + e*(180/np.pi)*np.sin(np.radians(E)) - E\n",
    "\n",
    "roots = fsolve(f, [2, 2])\n",
    "E = roots[0]\n",
    "\n",
    "print(\"La anomalía eccéntrica es E = \", E, \"°\")"
   ]
  },
  {
   "cell_type": "code",
   "execution_count": 7,
   "metadata": {},
   "outputs": [
    {
     "name": "stdout",
     "output_type": "stream",
     "text": [
      "La anomalía verdadera es θ =  121.91447829077109 °\n"
     ]
    }
   ],
   "source": [
    "θ = 2*np.arctan(np.sqrt((1+e)/(1-e))*np.tan(np.radians(E/2)))\n",
    "θ = np.degrees(θ)\n",
    "print(\"La anomalía verdadera es θ = \", θ, \"°\")\n"
   ]
  },
  {
   "cell_type": "code",
   "execution_count": 8,
   "metadata": {},
   "outputs": [
    {
     "name": "stdout",
     "output_type": "stream",
     "text": [
      "El radio vector del asteroide es r = 2.894419414380374 U.A.\n"
     ]
    }
   ],
   "source": [
    "r = a*(1-e*np.cos(np.radians(E)))\n",
    "print(\"El radio vector del asteroide es r =\", r, \"U.A.\")"
   ]
  },
  {
   "cell_type": "markdown",
   "metadata": {},
   "source": [
    "## Summary:\n",
    "* El periodo orbital es T =  1601.1753337699245 días\n",
    "* El movimiento medio es n =  0.22483484001242365 °/d\n",
    "* Hay Δt = 421.0000 días entre 2005-05-05 00:00:00 y 2006-06-30 00:00:00.\n",
    "* La anomalía media es M =  94.65546764523036 °\n",
    "* La anomalía verdadera es θ =  121.91447829077109 °\n",
    "* El radio vector del asteroide es r = 2.894419414380374 U.A."
   ]
  }
 ],
 "metadata": {
  "kernelspec": {
   "display_name": "Python 3 (ipykernel)",
   "language": "python",
   "name": "python3"
  },
  "language_info": {
   "codemirror_mode": {
    "name": "ipython",
    "version": 3
   },
   "file_extension": ".py",
   "mimetype": "text/x-python",
   "name": "python",
   "nbconvert_exporter": "python",
   "pygments_lexer": "ipython3",
   "version": "3.11.0"
  }
 },
 "nbformat": 4,
 "nbformat_minor": 4
}
