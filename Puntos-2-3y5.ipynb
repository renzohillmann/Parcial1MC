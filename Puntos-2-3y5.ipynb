{
 "cells": [
  {
   "cell_type": "code",
   "execution_count": 1,
   "metadata": {},
   "outputs": [],
   "source": [
    "import math\n",
    "import numpy as np\n",
    "\n",
    "#Constantes\n",
    "\n",
    "K = 0.01720209908 #U.A.^(3/2)/d\n",
    "G = 6.67e-11\n",
    "M = 5.9722e24 # Earth mass\n",
    "R = 6378.14 #km Earth radius"
   ]
  },
  {
   "cell_type": "markdown",
   "metadata": {},
   "source": [
    "## Punto 2"
   ]
  },
  {
   "cell_type": "code",
   "execution_count": 2,
   "metadata": {},
   "outputs": [
    {
     "name": "stdout",
     "output_type": "stream",
     "text": [
      "El eje mayor es a= 6878.14 KM\n"
     ]
    }
   ],
   "source": [
    "a = 500 + R #KM\n",
    "b = 300 + R # KM\n",
    "c = np.sqrt(a**2 - b**2)\n",
    "print(\"El eje mayor es a=\", a, \"KM\")"
   ]
  },
  {
   "cell_type": "code",
   "execution_count": 3,
   "metadata": {},
   "outputs": [
    {
     "name": "stdout",
     "output_type": "stream",
     "text": [
      "La eccentricidad es e = 0.23939454590290077\n"
     ]
    }
   ],
   "source": [
    "e = c/a\n",
    "print(\"La eccentricidad es e =\", e)"
   ]
  },
  {
   "cell_type": "code",
   "execution_count": 4,
   "metadata": {},
   "outputs": [
    {
     "name": "stdout",
     "output_type": "stream",
     "text": [
      "El periodo es 1.5774434389972742 horas\n"
     ]
    }
   ],
   "source": [
    "T = 2*np.pi* (a*1000)**(3/2) / np.sqrt(G*M)#SECS\n",
    "#T = T/3600\n",
    "print(\"El periodo es\", T/3600, \"horas\")"
   ]
  },
  {
   "cell_type": "code",
   "execution_count": 5,
   "metadata": {},
   "outputs": [
    {
     "name": "stdout",
     "output_type": "stream",
     "text": [
      "El movimiento medio es n = 5477.216986931808 °/d\n"
     ]
    }
   ],
   "source": [
    "n = 360/(T/(3600*24))\n",
    "print(\"El movimiento medio es n =\", n, \"°/d\")"
   ]
  },
  {
   "cell_type": "markdown",
   "metadata": {},
   "source": [
    "## Punto 3"
   ]
  },
  {
   "cell_type": "code",
   "execution_count": 6,
   "metadata": {},
   "outputs": [],
   "source": [
    "from useful_functions import UAtoM\n",
    "a1 = 0.52 # U.A.\n",
    "a2 = 0.98 # U.A."
   ]
  },
  {
   "cell_type": "code",
   "execution_count": 7,
   "metadata": {},
   "outputs": [
    {
     "name": "stdout",
     "output_type": "stream",
     "text": [
      "a1 en metros es 77790892764.0\n",
      "a2 en metros es 146605913285.99997\n"
     ]
    }
   ],
   "source": [
    "print(\"a1 en metros es\", UAtoM(a1))\n",
    "print(\"a2 en metros es\", UAtoM(a2))"
   ]
  },
  {
   "cell_type": "code",
   "execution_count": 8,
   "metadata": {},
   "outputs": [
    {
     "name": "stdout",
     "output_type": "stream",
     "text": [
      "tAD =  12.25 d\n"
     ]
    }
   ],
   "source": [
    "T1 = 4*3.5 # d\n",
    "tAD = T1 - 3.5/2\n",
    "print(\"tAD = \", tAD, \"d\")"
   ]
  },
  {
   "cell_type": "code",
   "execution_count": 9,
   "metadata": {},
   "outputs": [
    {
     "name": "stdout",
     "output_type": "stream",
     "text": [
      "La masa de la estrella es m = 1.9043054639947544e+32 kg\n"
     ]
    }
   ],
   "source": [
    "m = 4*(np.pi**2)*(UAtoM(a1))**(3) / ( (T1*24*3600)**2 * G)#SECS\n",
    "print(\"La masa de la estrella es m =\", m, \"kg\")"
   ]
  },
  {
   "cell_type": "code",
   "execution_count": 10,
   "metadata": {},
   "outputs": [
    {
     "name": "stdout",
     "output_type": "stream",
     "text": [
      "El periodo orbital del segundo planeta es T2 =  36.221141574367664 d\n"
     ]
    }
   ],
   "source": [
    "T2 = 2*(math.pi)*(UAtoM(a2))**(3/2) / np.sqrt(G*m)#SECS\n",
    "print(\"El periodo orbital del segundo planeta es T2 = \", T2/(24*3600), \"d\")\n"
   ]
  },
  {
   "cell_type": "markdown",
   "metadata": {},
   "source": [
    "## Punto 5"
   ]
  },
  {
   "cell_type": "code",
   "execution_count": 11,
   "metadata": {},
   "outputs": [],
   "source": [
    "from useful_functions import KMs_UAperDay\n",
    "v1 = 60\n",
    "v2 = 30\n"
   ]
  },
  {
   "cell_type": "code",
   "execution_count": 12,
   "metadata": {},
   "outputs": [
    {
     "name": "stdout",
     "output_type": "stream",
     "text": [
      "El semieje mayor es a = 0.49284882282089315 U.A.\n"
     ]
    }
   ],
   "source": [
    "v1 = KMs_UAperDay(v1)\n",
    "v2 = KMs_UAperDay(v2)\n",
    "a = K**2/(v1*v2)\n",
    "\n",
    "print(\"El semieje mayor es a =\", a, \"U.A.\" )"
   ]
  },
  {
   "cell_type": "code",
   "execution_count": 13,
   "metadata": {},
   "outputs": [
    {
     "name": "stdout",
     "output_type": "stream",
     "text": [
      "La eccentricidad es e = 0.33333333333333337\n"
     ]
    }
   ],
   "source": [
    "e = 1 - 2/(1+(v1**2*a)/K**2)\n",
    "\n",
    "print(\"La eccentricidad es e =\", e)"
   ]
  },
  {
   "cell_type": "code",
   "execution_count": null,
   "metadata": {},
   "outputs": [],
   "source": []
  }
 ],
 "metadata": {
  "kernelspec": {
   "display_name": "Python 3 (ipykernel)",
   "language": "python",
   "name": "python3"
  },
  "language_info": {
   "codemirror_mode": {
    "name": "ipython",
    "version": 3
   },
   "file_extension": ".py",
   "mimetype": "text/x-python",
   "name": "python",
   "nbconvert_exporter": "python",
   "pygments_lexer": "ipython3",
   "version": "3.11.0"
  }
 },
 "nbformat": 4,
 "nbformat_minor": 4
}
